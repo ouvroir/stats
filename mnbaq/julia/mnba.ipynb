{
 "cells": [
  {
   "cell_type": "markdown",
   "metadata": {},
   "source": [
    "# Musée National des Beaux-Arts du Québec"
   ]
  },
  {
   "cell_type": "markdown",
   "metadata": {},
   "source": [
    "## 1. Setup"
   ]
  },
  {
   "cell_type": "markdown",
   "metadata": {},
   "source": [
    "### Loading csv file"
   ]
  },
  {
   "cell_type": "code",
   "execution_count": 191,
   "metadata": {},
   "outputs": [
    {
     "data": {
      "text/plain": [
       "16-element Vector{String}:\n",
       " \"id\"\n",
       " \"departement\"\n",
       " \"collection\"\n",
       " \"category\"\n",
       " \"object\"\n",
       " \"artist\"\n",
       " \"title\"\n",
       " \"date\"\n",
       " \"creation_place\"\n",
       " \"culture\"\n",
       " \"technics\"\n",
       " \"dimensions\"\n",
       " \"nb_objects\"\n",
       " \"subject\"\n",
       " \"description\"\n",
       " \"last_updated\""
      ]
     },
     "metadata": {},
     "output_type": "display_data"
    }
   ],
   "source": [
    "using DataFrames, CSV, CairoMakie, Makie, CategoricalArrays, StatsBase\n",
    "\n",
    "CairoMakie.activate!()\n",
    "\n",
    "df = DataFrame(CSV.File(\"./collection-beauxarts.csv\"));\n",
    "\n",
    "select!(df,\n",
    "    :\"Numéro inventaire\" => :id,\n",
    "    :\"Département/Collection\" => :departement,\n",
    "    :\"Collection  \" => :collection,\n",
    "    :Catégorie => :category,\n",
    "    :Objet => :object,\n",
    "    :Artiste => :artist,\n",
    "    :Titre => :title,\n",
    "    :Date => :date,\n",
    "    :\"Lieu de production\" => :creation_place,\n",
    "    :Culture => :culture,\n",
    "    :Technique => :technics,\n",
    "    :Dimensions => :dimensions,\n",
    "    :\"Nombre objets\" => :nb_objects,\n",
    "    :Sujet => :subject,\n",
    "    :Description => :description,\n",
    "    :\"Date de mise à jour\" => :last_updated\n",
    ");\n",
    "names(df)"
   ]
  },
  {
   "cell_type": "markdown",
   "metadata": {},
   "source": [
    "## 2. Data cleaning"
   ]
  },
  {
   "cell_type": "code",
   "execution_count": 192,
   "metadata": {},
   "outputs": [
    {
     "data": {
      "text/plain": [
       "(28141, 20)"
      ]
     },
     "metadata": {},
     "output_type": "display_data"
    }
   ],
   "source": [
    "# create new columns based on original ones\n",
    "select!(df, :, \n",
    "    :id => ByRow(s -> (\n",
    "            res = match(r\"\\d{4}\", string(s));\n",
    "            isnothing(res) ? missing : parse(Int, res.match)\n",
    "        )\n",
    "    ) => :acquisition_date,\n",
    "\n",
    "    :id => ByRow(s -> (\n",
    "        res = collect(eachmatch(r\"(\\w+)?(.)?\\d{4}.\\d+\", string(s), overlap=true));\n",
    "        length(res) > 0 ? res[1].match : missing\n",
    "    )) => :uid,\n",
    "\n",
    "    :date => ByRow(s -> (\n",
    "            res = collect(eachmatch(r\"\\d{4}\", string(s), overlap=true));\n",
    "            length(res) > 0 ? parse(Int, res[1].match) : missing\n",
    "            \n",
    "        )\n",
    "    ) => :creation_early,\n",
    "\n",
    "    :date => ByRow(s -> (\n",
    "            res = collect(eachmatch(r\"\\d{4}\", string(s), overlap=true));\n",
    "            length(res) > 1 ? parse(Int, res[2].match) : missing\n",
    "        )\n",
    "    ) => :creation_late\n",
    ");\n",
    "\n",
    "dropmissing!(df, [:acquisition_date, :category])\n",
    "\n",
    "sort!(df, [:id])\n",
    "unique!(df, :uid)\n",
    "\n",
    "df = df[df.collection .!== \"Archives privées\", :]\n",
    "\n",
    "# Collection permanente\n",
    "collections = groupby(df, :collection)\n",
    "\n",
    "colp = df[df.collection .== \"Collection permanente\", :]\n",
    "unique!(colp, :uid)\n",
    "\n",
    "size(df)"
   ]
  },
  {
   "cell_type": "markdown",
   "metadata": {},
   "source": [
    "## 3. Basic stats (collection permanente)"
   ]
  },
  {
   "cell_type": "markdown",
   "metadata": {},
   "source": [
    "### Number of artworks by collection "
   ]
  },
  {
   "cell_type": "code",
   "execution_count": 193,
   "metadata": {},
   "outputs": [
    {
     "data": {
      "text/html": [
       "<div><div style = \"float: left;\"><span>4×2 DataFrame</span></div><div style = \"clear: both;\"></div></div><div class = \"data-frame\" style = \"overflow-x: scroll;\"><table class = \"data-frame\" style = \"margin-bottom: 6px;\"><thead><tr class = \"header\"><th class = \"rowNumber\" style = \"font-weight: bold; text-align: right;\">Row</th><th style = \"text-align: left;\">collection</th><th style = \"text-align: left;\">nb_artworks</th></tr><tr class = \"subheader headerLastRow\"><th class = \"rowNumber\" style = \"font-weight: bold; text-align: right;\"></th><th title = \"String31\" style = \"text-align: left;\">String31</th><th title = \"Int64\" style = \"text-align: left;\">Int64</th></tr></thead><tbody><tr><td class = \"rowNumber\" style = \"font-weight: bold; text-align: right;\">1</td><td style = \"text-align: left;\">Collection permanente</td><td style = \"text-align: right;\">24732</td></tr><tr><td class = \"rowNumber\" style = \"font-weight: bold; text-align: right;\">2</td><td style = \"text-align: left;\">Collection de prêt...</td><td style = \"text-align: right;\">1876</td></tr><tr><td class = \"rowNumber\" style = \"font-weight: bold; text-align: right;\">3</td><td style = \"text-align: left;\">Collection d&apos;étude</td><td style = \"text-align: right;\">1529</td></tr><tr><td class = \"rowNumber\" style = \"font-weight: bold; text-align: right;\">4</td><td style = \"text-align: left;\">Archives privées</td><td style = \"text-align: right;\">4</td></tr></tbody></table></div>"
      ],
      "text/latex": [
       "\\begin{tabular}{r|cc}\n",
       "\t& collection & nb\\_artworks\\\\\n",
       "\t\\hline\n",
       "\t& String31 & Int64\\\\\n",
       "\t\\hline\n",
       "\t1 & Collection permanente & 24732 \\\\\n",
       "\t2 & Collection de prêt... & 1876 \\\\\n",
       "\t3 & Collection d'étude & 1529 \\\\\n",
       "\t4 & Archives privées & 4 \\\\\n",
       "\\end{tabular}\n"
      ],
      "text/plain": [
       "\u001b[1m4×2 DataFrame\u001b[0m\n",
       "\u001b[1m Row \u001b[0m│\u001b[1m collection            \u001b[0m\u001b[1m nb_artworks \u001b[0m\n",
       "     │\u001b[90m String31              \u001b[0m\u001b[90m Int64       \u001b[0m\n",
       "─────┼────────────────────────────────────\n",
       "   1 │ Collection permanente        24732\n",
       "   2 │ Collection de prêt...         1876\n",
       "   3 │ Collection d'étude            1529\n",
       "   4 │ Archives privées                 4"
      ]
     },
     "metadata": {},
     "output_type": "display_data"
    }
   ],
   "source": [
    "sort(unique(combine(groupby(df, [:collection]), nrow => :nb_artworks)), :nb_artworks, rev=true)"
   ]
  },
  {
   "cell_type": "code",
   "execution_count": 194,
   "metadata": {},
   "outputs": [],
   "source": [
    "acq_collection_y = unique(combine(groupby(df, [:acquisition_date, :collection]), :acquisition_date, :collection, nrow => :nb_artworks))\n",
    "\n",
    "f = Figure(resolution=(1000, 1000))\n",
    "\n",
    "for (i, c) in enumerate(unique(acq_collection_y.collection))\n",
    "    ax = Axis(f[i,1])\n",
    "    ax.title = c\n",
    "    xlims!(ax, (1930, 2020))\n",
    "    ylims!(ax, (0, 4000))\n",
    "    data = acq_collection_y[(acq_collection_y.collection .=== c), :]\n",
    "    barplot!(data.acquisition_date, data.nb_artworks, offset=1)\n",
    "end\n",
    "\n",
    "f"
   ]
  },
  {
   "cell_type": "code",
   "execution_count": 195,
   "metadata": {},
   "outputs": [
    {
     "data": {
      "text/html": [
       "<div><div style = \"float: left;\"><span>6×2 DataFrame</span></div><div style = \"clear: both;\"></div></div><div class = \"data-frame\" style = \"overflow-x: scroll;\"><table class = \"data-frame\" style = \"margin-bottom: 6px;\"><thead><tr class = \"header\"><th class = \"rowNumber\" style = \"font-weight: bold; text-align: right;\">Row</th><th style = \"text-align: left;\">departement</th><th style = \"text-align: left;\">nb_artworks</th></tr><tr class = \"subheader headerLastRow\"><th class = \"rowNumber\" style = \"font-weight: bold; text-align: right;\"></th><th title = \"String\" style = \"text-align: left;\">String</th><th title = \"Int64\" style = \"text-align: left;\">Int64</th></tr></thead><tbody><tr><td class = \"rowNumber\" style = \"font-weight: bold; text-align: right;\">1</td><td style = \"text-align: left;\">Art ancien (des origines à 1900)</td><td style = \"text-align: right;\">6619</td></tr><tr><td class = \"rowNumber\" style = \"font-weight: bold; text-align: right;\">2</td><td style = \"text-align: left;\">Art contemporain (1950-2000)</td><td style = \"text-align: right;\">6340</td></tr><tr><td class = \"rowNumber\" style = \"font-weight: bold; text-align: right;\">3</td><td style = \"text-align: left;\">Art moderne (1900-1950)</td><td style = \"text-align: right;\">6191</td></tr><tr><td class = \"rowNumber\" style = \"font-weight: bold; text-align: right;\">4</td><td style = \"text-align: left;\">Arts décoratifs</td><td style = \"text-align: right;\">2682</td></tr><tr><td class = \"rowNumber\" style = \"font-weight: bold; text-align: right;\">5</td><td style = \"text-align: left;\">Art inuit</td><td style = \"text-align: right;\">2189</td></tr><tr><td class = \"rowNumber\" style = \"font-weight: bold; text-align: right;\">6</td><td style = \"text-align: left;\">Art actuel (2000 à ce jour)</td><td style = \"text-align: right;\">711</td></tr></tbody></table></div>"
      ],
      "text/latex": [
       "\\begin{tabular}{r|cc}\n",
       "\t& departement & nb\\_artworks\\\\\n",
       "\t\\hline\n",
       "\t& String & Int64\\\\\n",
       "\t\\hline\n",
       "\t1 & Art ancien (des origines à 1900) & 6619 \\\\\n",
       "\t2 & Art contemporain (1950-2000) & 6340 \\\\\n",
       "\t3 & Art moderne (1900-1950) & 6191 \\\\\n",
       "\t4 & Arts décoratifs & 2682 \\\\\n",
       "\t5 & Art inuit & 2189 \\\\\n",
       "\t6 & Art actuel (2000 à ce jour) & 711 \\\\\n",
       "\\end{tabular}\n"
      ],
      "text/plain": [
       "\u001b[1m6×2 DataFrame\u001b[0m\n",
       "\u001b[1m Row \u001b[0m│\u001b[1m departement                      \u001b[0m\u001b[1m nb_artworks \u001b[0m\n",
       "     │\u001b[90m String                           \u001b[0m\u001b[90m Int64       \u001b[0m\n",
       "─────┼───────────────────────────────────────────────\n",
       "   1 │ Art ancien (des origines à 1900)         6619\n",
       "   2 │ Art contemporain (1950-2000)             6340\n",
       "   3 │ Art moderne (1900-1950)                  6191\n",
       "   4 │ Arts décoratifs                          2682\n",
       "   5 │ Art inuit                                2189\n",
       "   6 │ Art actuel (2000 à ce jour)               711"
      ]
     },
     "metadata": {},
     "output_type": "display_data"
    }
   ],
   "source": [
    "sort(unique(combine(groupby(collections[(\"Collection permanente\",)], [:departement]), nrow => :nb_artworks)), :nb_artworks, rev=true)"
   ]
  },
  {
   "cell_type": "code",
   "execution_count": 213,
   "metadata": {},
   "outputs": [
    {
     "data": {
      "text/html": [
       "<div><div style = \"float: left;\"><span>29×2 DataFrame</span></div><div style = \"float: right;\"><span style = \"font-style: italic;\">4 rows omitted</span></div><div style = \"clear: both;\"></div></div><div class = \"data-frame\" style = \"overflow-x: scroll;\"><table class = \"data-frame\" style = \"margin-bottom: 6px;\"><thead><tr class = \"header\"><th class = \"rowNumber\" style = \"font-weight: bold; text-align: right;\">Row</th><th style = \"text-align: left;\">category</th><th style = \"text-align: left;\">nb_artworks</th></tr><tr class = \"subheader headerLastRow\"><th class = \"rowNumber\" style = \"font-weight: bold; text-align: right;\"></th><th title = \"String\" style = \"text-align: left;\">String</th><th title = \"Int64\" style = \"text-align: left;\">Int64</th></tr></thead><tbody><tr><td class = \"rowNumber\" style = \"font-weight: bold; text-align: right;\">1</td><td style = \"text-align: left;\">Dessin</td><td style = \"text-align: right;\">5995</td></tr><tr><td class = \"rowNumber\" style = \"font-weight: bold; text-align: right;\">2</td><td style = \"text-align: left;\">Photographie</td><td style = \"text-align: right;\">5670</td></tr><tr><td class = \"rowNumber\" style = \"font-weight: bold; text-align: right;\">3</td><td style = \"text-align: left;\">Estampe</td><td style = \"text-align: right;\">3406</td></tr><tr><td class = \"rowNumber\" style = \"font-weight: bold; text-align: right;\">4</td><td style = \"text-align: left;\">Sculpture</td><td style = \"text-align: right;\">3223</td></tr><tr><td class = \"rowNumber\" style = \"font-weight: bold; text-align: right;\">5</td><td style = \"text-align: left;\">Peinture</td><td style = \"text-align: right;\">2752</td></tr><tr><td class = \"rowNumber\" style = \"font-weight: bold; text-align: right;\">6</td><td style = \"text-align: left;\">Orfèvrerie</td><td style = \"text-align: right;\">967</td></tr><tr><td class = \"rowNumber\" style = \"font-weight: bold; text-align: right;\">7</td><td style = \"text-align: left;\">Graphisme</td><td style = \"text-align: right;\">656</td></tr><tr><td class = \"rowNumber\" style = \"font-weight: bold; text-align: right;\">8</td><td style = \"text-align: left;\">Céramique</td><td style = \"text-align: right;\">436</td></tr><tr><td class = \"rowNumber\" style = \"font-weight: bold; text-align: right;\">9</td><td style = \"text-align: left;\">Livre/Album</td><td style = \"text-align: right;\">218</td></tr><tr><td class = \"rowNumber\" style = \"font-weight: bold; text-align: right;\">10</td><td style = \"text-align: left;\">Mobilier</td><td style = \"text-align: right;\">212</td></tr><tr><td class = \"rowNumber\" style = \"font-weight: bold; text-align: right;\">11</td><td style = \"text-align: left;\">Bois/Menuiserie d&apos;art</td><td style = \"text-align: right;\">199</td></tr><tr><td class = \"rowNumber\" style = \"font-weight: bold; text-align: right;\">12</td><td style = \"text-align: left;\">Installation</td><td style = \"text-align: right;\">117</td></tr><tr><td class = \"rowNumber\" style = \"font-weight: bold; text-align: right;\">13</td><td style = \"text-align: left;\">Numismatique</td><td style = \"text-align: right;\">112</td></tr><tr><td style = \"text-align: right;\">&vellip;</td><td style = \"text-align: right;\">&vellip;</td><td style = \"text-align: right;\">&vellip;</td></tr><tr><td class = \"rowNumber\" style = \"font-weight: bold; text-align: right;\">18</td><td style = \"text-align: left;\">Émaux</td><td style = \"text-align: right;\">77</td></tr><tr><td class = \"rowNumber\" style = \"font-weight: bold; text-align: right;\">19</td><td style = \"text-align: left;\">Verre</td><td style = \"text-align: right;\">75</td></tr><tr><td class = \"rowNumber\" style = \"font-weight: bold; text-align: right;\">20</td><td style = \"text-align: left;\">Vidéo/Film</td><td style = \"text-align: right;\">60</td></tr><tr><td class = \"rowNumber\" style = \"font-weight: bold; text-align: right;\">21</td><td style = \"text-align: left;\">Jeu/Jouet</td><td style = \"text-align: right;\">56</td></tr><tr><td class = \"rowNumber\" style = \"font-weight: bold; text-align: right;\">22</td><td style = \"text-align: left;\">Métaux</td><td style = \"text-align: right;\">22</td></tr><tr><td class = \"rowNumber\" style = \"font-weight: bold; text-align: right;\">23</td><td style = \"text-align: left;\">Métiers divers</td><td style = \"text-align: right;\">21</td></tr><tr><td class = \"rowNumber\" style = \"font-weight: bold; text-align: right;\">24</td><td style = \"text-align: left;\">Ivoire</td><td style = \"text-align: right;\">16</td></tr><tr><td class = \"rowNumber\" style = \"font-weight: bold; text-align: right;\">25</td><td style = \"text-align: left;\">Architecture</td><td style = \"text-align: right;\">13</td></tr><tr><td class = \"rowNumber\" style = \"font-weight: bold; text-align: right;\">26</td><td style = \"text-align: left;\">Costume</td><td style = \"text-align: right;\">6</td></tr><tr><td class = \"rowNumber\" style = \"font-weight: bold; text-align: right;\">27</td><td style = \"text-align: left;\">Vitrail</td><td style = \"text-align: right;\">5</td></tr><tr><td class = \"rowNumber\" style = \"font-weight: bold; text-align: right;\">28</td><td style = \"text-align: left;\">Mosaïque</td><td style = \"text-align: right;\">4</td></tr><tr><td class = \"rowNumber\" style = \"font-weight: bold; text-align: right;\">29</td><td style = \"text-align: left;\">Performance</td><td style = \"text-align: right;\">1</td></tr></tbody></table></div>"
      ],
      "text/latex": [
       "\\begin{tabular}{r|cc}\n",
       "\t& category & nb\\_artworks\\\\\n",
       "\t\\hline\n",
       "\t& String & Int64\\\\\n",
       "\t\\hline\n",
       "\t1 & Dessin & 5995 \\\\\n",
       "\t2 & Photographie & 5670 \\\\\n",
       "\t3 & Estampe & 3406 \\\\\n",
       "\t4 & Sculpture & 3223 \\\\\n",
       "\t5 & Peinture & 2752 \\\\\n",
       "\t6 & Orfèvrerie & 967 \\\\\n",
       "\t7 & Graphisme & 656 \\\\\n",
       "\t8 & Céramique & 436 \\\\\n",
       "\t9 & Livre/Album & 218 \\\\\n",
       "\t10 & Mobilier & 212 \\\\\n",
       "\t11 & Bois/Menuiserie d'art & 199 \\\\\n",
       "\t12 & Installation & 117 \\\\\n",
       "\t13 & Numismatique & 112 \\\\\n",
       "\t14 & Bijou & 110 \\\\\n",
       "\t15 & Design & 107 \\\\\n",
       "\t16 & Techniques mixtes & 103 \\\\\n",
       "\t17 & Textile & 93 \\\\\n",
       "\t18 & Émaux & 77 \\\\\n",
       "\t19 & Verre & 75 \\\\\n",
       "\t20 & Vidéo/Film & 60 \\\\\n",
       "\t21 & Jeu/Jouet & 56 \\\\\n",
       "\t22 & Métaux & 22 \\\\\n",
       "\t23 & Métiers divers & 21 \\\\\n",
       "\t24 & Ivoire & 16 \\\\\n",
       "\t$\\dots$ & $\\dots$ & $\\dots$ \\\\\n",
       "\\end{tabular}\n"
      ],
      "text/plain": [
       "\u001b[1m29×2 DataFrame\u001b[0m\n",
       "\u001b[1m Row \u001b[0m│\u001b[1m category              \u001b[0m\u001b[1m nb_artworks \u001b[0m\n",
       "     │\u001b[90m String                \u001b[0m\u001b[90m Int64       \u001b[0m\n",
       "─────┼────────────────────────────────────\n",
       "   1 │ Dessin                        5995\n",
       "   2 │ Photographie                  5670\n",
       "   3 │ Estampe                       3406\n",
       "   4 │ Sculpture                     3223\n",
       "   5 │ Peinture                      2752\n",
       "   6 │ Orfèvrerie                     967\n",
       "   7 │ Graphisme                      656\n",
       "   8 │ Céramique                      436\n",
       "  ⋮  │           ⋮                 ⋮\n",
       "  23 │ Métiers divers                  21\n",
       "  24 │ Ivoire                          16\n",
       "  25 │ Architecture                    13\n",
       "  26 │ Costume                          6\n",
       "  27 │ Vitrail                          5\n",
       "  28 │ Mosaïque                         4\n",
       "  29 │ Performance                      1\n",
       "\u001b[36m                           14 rows omitted\u001b[0m"
      ]
     },
     "metadata": {},
     "output_type": "display_data"
    }
   ],
   "source": [
    "categories_sorted = sort(unique(combine(groupby(collections[(\"Collection permanente\", )], [:category]), nrow => :nb_artworks)), :nb_artworks, rev=true)\n",
    "top_categories = Array(categories_sorted.category[1:7])\n",
    "categories_sorted"
   ]
  },
  {
   "cell_type": "code",
   "execution_count": 197,
   "metadata": {},
   "outputs": [
    {
     "data": {
      "text/html": [
       "<div><div style = \"float: left;\"><span>4603×2 DataFrame</span></div><div style = \"float: right;\"><span style = \"font-style: italic;\">4578 rows omitted</span></div><div style = \"clear: both;\"></div></div><div class = \"data-frame\" style = \"overflow-x: scroll;\"><table class = \"data-frame\" style = \"margin-bottom: 6px;\"><thead><tr class = \"header\"><th class = \"rowNumber\" style = \"font-weight: bold; text-align: right;\">Row</th><th style = \"text-align: left;\">technics</th><th style = \"text-align: left;\">nb_artworks</th></tr><tr class = \"subheader headerLastRow\"><th class = \"rowNumber\" style = \"font-weight: bold; text-align: right;\"></th><th title = \"Union{Missing, String}\" style = \"text-align: left;\">String?</th><th title = \"Int64\" style = \"text-align: left;\">Int64</th></tr></thead><tbody><tr><td class = \"rowNumber\" style = \"font-weight: bold; text-align: right;\">1</td><td style = \"text-align: left;\">Épreuve à l&apos;albumine argentique</td><td style = \"text-align: right;\">2573</td></tr><tr><td class = \"rowNumber\" style = \"font-weight: bold; text-align: right;\">2</td><td style = \"text-align: left;\">Épreuve à la gélatine argentique</td><td style = \"text-align: right;\">2084</td></tr><tr><td class = \"rowNumber\" style = \"font-weight: bold; text-align: right;\">3</td><td style = \"text-align: left;\">Huile sur toile</td><td style = \"text-align: right;\">1520</td></tr><tr><td class = \"rowNumber\" style = \"font-weight: bold; text-align: right;\">4</td><td style = \"text-align: left;\">Mine de plomb sur papier</td><td style = \"text-align: right;\">1040</td></tr><tr><td class = \"rowNumber\" style = \"font-weight: bold; text-align: right;\">5</td><td style = \"text-align: left;\">Argent</td><td style = \"text-align: right;\">947</td></tr><tr><td class = \"rowNumber\" style = \"font-weight: bold; text-align: right;\">6</td><td style = \"text-align: left;\">Fusain sur papier</td><td style = \"text-align: right;\">525</td></tr><tr><td class = \"rowNumber\" style = \"font-weight: bold; text-align: right;\">7</td><td style = \"text-align: left;\">Serpentinite</td><td style = \"text-align: right;\">401</td></tr><tr><td class = \"rowNumber\" style = \"font-weight: bold; text-align: right;\">8</td><td style = \"text-align: left;\">Encre sur papier</td><td style = \"text-align: right;\">386</td></tr><tr><td class = \"rowNumber\" style = \"font-weight: bold; text-align: right;\">9</td><td style = \"text-align: left;\">Mine de plomb sur papier Ingres</td><td style = \"text-align: right;\">369</td></tr><tr><td class = \"rowNumber\" style = \"font-weight: bold; text-align: right;\">10</td><td style = \"text-align: left;\">Sérigraphie</td><td style = \"text-align: right;\">336</td></tr><tr><td class = \"rowNumber\" style = \"font-weight: bold; text-align: right;\">11</td><td style = \"text-align: left;\">Stéatite</td><td style = \"text-align: right;\">303</td></tr><tr><td class = \"rowNumber\" style = \"font-weight: bold; text-align: right;\">12</td><td style = \"text-align: left;\">Aquarelle sur papier</td><td style = \"text-align: right;\">285</td></tr><tr><td class = \"rowNumber\" style = \"font-weight: bold; text-align: right;\">13</td><td style = \"text-align: left;\">Bronze</td><td style = \"text-align: right;\">264</td></tr><tr><td style = \"text-align: right;\">&vellip;</td><td style = \"text-align: right;\">&vellip;</td><td style = \"text-align: right;\">&vellip;</td></tr><tr><td class = \"rowNumber\" style = \"font-weight: bold; text-align: right;\">4592</td><td style = \"text-align: left;\">Épreuve à la gélatine argentique, 8/10</td><td style = \"text-align: right;\">1</td></tr><tr><td class = \"rowNumber\" style = \"font-weight: bold; text-align: right;\">4593</td><td style = \"text-align: left;\">Épreuve à la gélatine argentique, 7/7</td><td style = \"text-align: right;\">1</td></tr><tr><td class = \"rowNumber\" style = \"font-weight: bold; text-align: right;\">4594</td><td style = \"text-align: left;\">Épreuve à la gélatine argentique, 5/7</td><td style = \"text-align: right;\">1</td></tr><tr><td class = \"rowNumber\" style = \"font-weight: bold; text-align: right;\">4595</td><td style = \"text-align: left;\">Épreuve à la gélatine argentique, 6/10</td><td style = \"text-align: right;\">1</td></tr><tr><td class = \"rowNumber\" style = \"font-weight: bold; text-align: right;\">4596</td><td style = \"text-align: left;\">Épreuve à la gélatine argentique, 3/7</td><td style = \"text-align: right;\">1</td></tr><tr><td class = \"rowNumber\" style = \"font-weight: bold; text-align: right;\">4597</td><td style = \"text-align: left;\">Épreuve à la gélatine argentique, 4/7</td><td style = \"text-align: right;\">1</td></tr><tr><td class = \"rowNumber\" style = \"font-weight: bold; text-align: right;\">4598</td><td style = \"text-align: left;\">Acajou, tissu et rembourrage</td><td style = \"text-align: right;\">1</td></tr><tr><td class = \"rowNumber\" style = \"font-weight: bold; text-align: right;\">4599</td><td style = \"text-align: left;\">Aluminium, bronze, verre et gaz naturel</td><td style = \"text-align: right;\">1</td></tr><tr><td class = \"rowNumber\" style = \"font-weight: bold; text-align: right;\">4600</td><td style = \"text-align: left;\">Bronze et acier inoxydable (grille)</td><td style = \"text-align: right;\">1</td></tr><tr><td class = \"rowNumber\" style = \"font-weight: bold; text-align: right;\">4601</td><td style = \"text-align: left;\">Aluminium, aluminium coulé, pigments et câbles d&apos;acier</td><td style = \"text-align: right;\">1</td></tr><tr><td class = \"rowNumber\" style = \"font-weight: bold; text-align: right;\">4602</td><td style = \"text-align: left;\">Bois et peinture</td><td style = \"text-align: right;\">1</td></tr><tr><td class = \"rowNumber\" style = \"font-weight: bold; text-align: right;\">4603</td><td style = \"text-align: left;\">Film couleur 16 mm transféré sur DVD Blue Ray (d’abord sur VHS et CDs), 1/1</td><td style = \"text-align: right;\">1</td></tr></tbody></table></div>"
      ],
      "text/latex": [
       "\\begin{tabular}{r|cc}\n",
       "\t& technics & nb\\_artworks\\\\\n",
       "\t\\hline\n",
       "\t& String? & Int64\\\\\n",
       "\t\\hline\n",
       "\t1 & Épreuve à l'albumine argentique & 2573 \\\\\n",
       "\t2 & Épreuve à la gélatine argentique & 2084 \\\\\n",
       "\t3 & Huile sur toile & 1520 \\\\\n",
       "\t4 & Mine de plomb sur papier & 1040 \\\\\n",
       "\t5 & Argent & 947 \\\\\n",
       "\t6 & Fusain sur papier & 525 \\\\\n",
       "\t7 & Serpentinite & 401 \\\\\n",
       "\t8 & Encre sur papier & 386 \\\\\n",
       "\t9 & Mine de plomb sur papier Ingres & 369 \\\\\n",
       "\t10 & Sérigraphie & 336 \\\\\n",
       "\t11 & Stéatite & 303 \\\\\n",
       "\t12 & Aquarelle sur papier & 285 \\\\\n",
       "\t13 & Bronze & 264 \\\\\n",
       "\t14 & Offset & 249 \\\\\n",
       "\t15 & Acrylique sur toile & 242 \\\\\n",
       "\t16 & Eau-forte & 234 \\\\\n",
       "\t17 & Lithographie & 195 \\\\\n",
       "\t18 & Huile sur carton & 184 \\\\\n",
       "\t19 & Basalte & 173 \\\\\n",
       "\t20 & Fusain et craie sur papier & 133 \\\\\n",
       "\t21 & Faïence & 133 \\\\\n",
       "\t22 & Huile sur panneau de fibre de bois & 132 \\\\\n",
       "\t23 & Gravure sur bois & 131 \\\\\n",
       "\t24 & Bois doré & 130 \\\\\n",
       "\t$\\dots$ & $\\dots$ & $\\dots$ \\\\\n",
       "\\end{tabular}\n"
      ],
      "text/plain": [
       "\u001b[1m4603×2 DataFrame\u001b[0m\n",
       "\u001b[1m  Row \u001b[0m│\u001b[1m technics                          \u001b[0m\u001b[1m nb_artworks \u001b[0m\n",
       "      │\u001b[90m String?                           \u001b[0m\u001b[90m Int64       \u001b[0m\n",
       "──────┼────────────────────────────────────────────────\n",
       "    1 │ Épreuve à l'albumine argentique           2573\n",
       "    2 │ Épreuve à la gélatine argentique          2084\n",
       "    3 │ Huile sur toile                           1520\n",
       "    4 │ Mine de plomb sur papier                  1040\n",
       "    5 │ Argent                                     947\n",
       "    6 │ Fusain sur papier                          525\n",
       "    7 │ Serpentinite                               401\n",
       "    8 │ Encre sur papier                           386\n",
       "  ⋮   │                 ⋮                       ⋮\n",
       " 4597 │ Épreuve à la gélatine argentique…            1\n",
       " 4598 │ Acajou, tissu et rembourrage                 1\n",
       " 4599 │ Aluminium, bronze, verre et gaz …            1\n",
       " 4600 │ Bronze et acier inoxydable (gril…            1\n",
       " 4601 │ Aluminium, aluminium coulé, pigm…            1\n",
       " 4602 │ Bois et peinture                             1\n",
       " 4603 │ Film couleur 16 mm transféré sur…            1\n",
       "\u001b[36m                                      4588 rows omitted\u001b[0m"
      ]
     },
     "metadata": {},
     "output_type": "display_data"
    }
   ],
   "source": [
    "sort(unique(combine(groupby(collections[(\"Collection permanente\", )], [:technics]), nrow => :nb_artworks)), :nb_artworks, rev=true)"
   ]
  },
  {
   "cell_type": "markdown",
   "metadata": {},
   "source": [
    "## 4. Basic plots\n",
    "\n",
    "https://juliadatascience.io/cairomakie\n",
    "\n",
    "https://docs.makie.org/stable/tutorials/basic-tutorial/"
   ]
  },
  {
   "cell_type": "code",
   "execution_count": 198,
   "metadata": {},
   "outputs": [
    {
     "data": {
      "text/plain": [
       "\"# of artworks\""
      ]
     },
     "metadata": {},
     "output_type": "display_data"
    }
   ],
   "source": [
    "hist_acq = combine(groupby(unique(df), :acquisition_date, skipmissing=true), nrow => :nb_artwork)\n",
    "hist_crea = combine(groupby(unique(df), :creation_early, skipmissing=true), nrow => :nb_artwork)\n",
    "\n",
    "f = Figure(backgroundcolor = RGBf(0.98, 0.98, 0.98),\n",
    "    resolution = (1000, 700))\n",
    "\n",
    "axa, ba = barplot(f[1,1], hist_crea[:, :creation_early], hist_crea[:, :nb_artwork], xlabel=\"acquisition year\")\n",
    "axb, bb = barplot(f[1,2], hist_acq[:, :acquisition_date], hist_acq[:, :nb_artwork])\n",
    "\n",
    "axa.xlabel = \"Creation year\"\n",
    "axa.ylabel = \"# of artworks\"\n",
    "axb.xlabel = \"Acquisition year\"\n",
    "axb.ylabel = \"# of artworks\"\n",
    "\n",
    "# f"
   ]
  },
  {
   "cell_type": "code",
   "execution_count": 267,
   "metadata": {},
   "outputs": [],
   "source": [
    "dpt_y_count = unique(combine(groupby(colp, [:acquisition_date, :departement]), nrow))\n",
    "\n",
    "f = Figure(resolution=(2000, 1000))\n",
    "i = 1\n",
    "j = 1\n",
    "\n",
    "for (idx, g) in enumerate(groupby(dpt_y_count, :departement))\n",
    "    ax = Axis(f[i, j])\n",
    "    xlims!(ax, (1930, 2020))\n",
    "    ylims!(ax, (0, 1000))\n",
    "    ax.title = g.departement[1]\n",
    "    j === 1 ? ax.ylabel = \"acquisitions\" : 0\n",
    "    barplot!(g.acquisition_date, g.nrow)\n",
    "\n",
    "    i += 1\n",
    "    if i === 4\n",
    "        j += 1\n",
    "        i = 1\n",
    "    end\n",
    "end\n",
    "\n",
    "f"
   ]
  },
  {
   "cell_type": "markdown",
   "metadata": {},
   "source": [
    "## Category vs acquisition/creation\n",
    "\n",
    "https://docs.makie.org/stable/examples/plotting_functions/rainclouds/#example_13222721075935979891"
   ]
  },
  {
   "cell_type": "code",
   "execution_count": 282,
   "metadata": {},
   "outputs": [],
   "source": [
    "using Makie\n",
    "colors = Makie.wong_colors()\n",
    "\n",
    "f = Figure(resolution=(2000, 1000))\n",
    "\n",
    "i = 1\n",
    "j = 1\n",
    "\n",
    "for (idx, g) in enumerate(groupby(colp[in(top_categories).(colp.category), :], :departement))\n",
    "    ax = Axis(f[i, j])\n",
    "    ax.xlabel = \"acquisition date\"\n",
    "    ax.ylabel = \"creation date\"\n",
    "    ax.title = g.departement[1]\n",
    "\n",
    "    println(levelcode.(categorical(g.category)))\n",
    "\n",
    "    scatter!(ax, g.acquisition_date, g.creation_early, colors=colors[levelcode.(categorical(g.category))])\n",
    "    \n",
    "    i += 1\n",
    "    if i % 3 === 0\n",
    "        i = 1\n",
    "        j += 1\n",
    "    end\n",
    "end\n",
    "f"
   ]
  },
  {
   "cell_type": "code",
   "execution_count": 203,
   "metadata": {},
   "outputs": [],
   "source": []
  },
  {
   "cell_type": "code",
   "execution_count": 204,
   "metadata": {},
   "outputs": [
    {
     "ename": "UndefVarError",
     "evalue": "UndefVarError: acq not defined",
     "output_type": "error",
     "traceback": [
      "UndefVarError: acq not defined\n",
      "\n",
      "Stacktrace:\n",
      " [1] top-level scope\n",
      "   @ ~/Documents/ouvroir/museum-data-analysis/mnbaq/julia/mnba.ipynb:3"
     ]
    }
   ],
   "source": [
    "# Top categories\n",
    "\n",
    "top_cat = unique(\n",
    "    sort(\n",
    "        combine(\n",
    "            groupby(\n",
    "                acq, [:category]), :category, :nb_acquisition => sum => :nb_acquisition), :nb_acquisition, rev=true))"
   ]
  },
  {
   "cell_type": "markdown",
   "metadata": {},
   "source": [
    "## Number of acquisitions per year by categories\n",
    "\n",
    "### Bar chart"
   ]
  },
  {
   "cell_type": "code",
   "execution_count": 205,
   "metadata": {},
   "outputs": [
    {
     "ename": "UndefVarError",
     "evalue": "UndefVarError: top_cat not defined",
     "output_type": "error",
     "traceback": [
      "UndefVarError: top_cat not defined\n",
      "\n",
      "Stacktrace:\n",
      " [1] top-level scope\n",
      "   @ ~/Documents/ouvroir/museum-data-analysis/mnbaq/julia/mnba.ipynb:7"
     ]
    }
   ],
   "source": [
    "f = Figure(resolution=(1000, 1000)) \n",
    "\n",
    "for i in 1:3, j in 1:3\n",
    "    ax = Axis(f[i, j])\n",
    "    xlims!(ax, (1930, 2020))\n",
    "    ylims!(ax, (0, 500))\n",
    "    cat = reshape(unique(top_cat.category[1:9]), 3, 3)[i,j]\n",
    "    ax.title = cat\n",
    "    ax.ylabel = \"Number of acquisitions\"\n",
    "    ax.xlabel = \"Acquisition year\"\n",
    "    ax.xticklabelrotation = 45\n",
    "    g = filter(r -> r.category == cat, acq)\n",
    "    barplot!(g.acquisition_date, g.nb_acquisition)\n",
    "end\n",
    "\n",
    "f"
   ]
  },
  {
   "cell_type": "markdown",
   "metadata": {},
   "source": [
    "### Box plot"
   ]
  },
  {
   "cell_type": "code",
   "execution_count": 206,
   "metadata": {},
   "outputs": [
    {
     "ename": "UndefVarError",
     "evalue": "UndefVarError: acq not defined",
     "output_type": "error",
     "traceback": [
      "UndefVarError: acq not defined\n",
      "\n",
      "Stacktrace:\n",
      " [1] top-level scope\n",
      "   @ ~/Documents/ouvroir/museum-data-analysis/mnbaq/julia/mnba.ipynb:6"
     ]
    }
   ],
   "source": [
    "f = Figure(resolution=(1000, 1000)) \n",
    "ax = Axis(f[1, 1])\n",
    "# ax.ylabel = \"Number of acquisitions\"\n",
    "# ax.xlabel = \"Acquisition year\"\n",
    "\n",
    "boxplot!(levelcode.(categorical(top_cat)), filter(r -> r.category in unique(top_cat.category), acq).nb_acquisition, show_notch=true)\n",
    "f"
   ]
  },
  {
   "cell_type": "markdown",
   "metadata": {},
   "source": [
    "### Compute z-score"
   ]
  },
  {
   "cell_type": "code",
   "execution_count": 207,
   "metadata": {},
   "outputs": [
    {
     "ename": "UndefVarError",
     "evalue": "UndefVarError: top_cat not defined",
     "output_type": "error",
     "traceback": [
      "UndefVarError: top_cat not defined\n",
      "\n",
      "Stacktrace:\n",
      "  [1] (::var\"#75#76\")(r::DataFrameRow{DataFrame, DataFrames.Index})\n",
      "    @ Main ~/Documents/ouvroir/museum-data-analysis/mnbaq/julia/mnba.ipynb:2\n",
      "  [2] #99\n",
      "    @ ~/.julia/packages/DataFrames/Lrd7K/src/abstractdataframe/abstractdataframe.jl:1178 [inlined]\n",
      "  [3] _broadcast_getindex_evalf\n",
      "    @ ./broadcast.jl:670 [inlined]\n",
      "  [4] _broadcast_getindex\n",
      "    @ ./broadcast.jl:643 [inlined]\n",
      "  [5] getindex\n",
      "    @ ./broadcast.jl:597 [inlined]\n",
      "  [6] macro expansion\n",
      "    @ ./broadcast.jl:979 [inlined]\n",
      "  [7] macro expansion\n",
      "    @ ./simdloop.jl:77 [inlined]\n",
      "  [8] copyto!\n",
      "    @ ./broadcast.jl:978 [inlined]\n",
      "  [9] copyto!\n",
      "    @ ./broadcast.jl:913 [inlined]\n",
      " [10] copy\n",
      "    @ ./broadcast.jl:885 [inlined]\n",
      " [11] materialize(bc::Base.Broadcast.Broadcasted{Base.Broadcast.DefaultArrayStyle{1}, Nothing, DataFrames.var\"#99#100\"{var\"#75#76\"}, Tuple{DataFrames.DataFrameRows{DataFrame}}})\n",
      "    @ Base.Broadcast ./broadcast.jl:860\n",
      " [12] _filter_helper(f::Function, cols::DataFrames.DataFrameRows{DataFrame})\n",
      "    @ DataFrames ~/.julia/packages/DataFrames/Lrd7K/src/abstractdataframe/abstractdataframe.jl:1178\n",
      " [13] #filter#88\n",
      "    @ ~/.julia/packages/DataFrames/Lrd7K/src/abstractdataframe/abstractdataframe.jl:1151 [inlined]\n",
      " [14] filter(f::Function, df::DataFrame)\n",
      "    @ DataFrames ~/.julia/packages/DataFrames/Lrd7K/src/abstractdataframe/abstractdataframe.jl:1150\n",
      " [15] top-level scope\n",
      "    @ ~/Documents/ouvroir/museum-data-analysis/mnbaq/julia/mnba.ipynb:2"
     ]
    }
   ],
   "source": [
    "rain_data = dropmissing(df[:, [:acquisition_date, :category]])\n",
    "rain_data = filter(r -> r.category in top_cat, rain_data)\n",
    "\n",
    "f = Figure(resolution=(1000, 1000))\n",
    "\n",
    "colors = Makie.wong_colors()\n",
    "\n",
    "rainclouds!(Axis(f[1, 1]), rain_data[:, :category,], rain_data[:, :acquisition_date];\n",
    "    gap=0.1,\n",
    "    orientation = :horizontal,\n",
    "    xlabel = \"Année d'acquisition\", ylabel = \"Catégorie\", title = \"Catagory vs acquisition\",\n",
    "    clouds=violin,\n",
    "    markersize=1,\n",
    "    plot_boxplots = true, cloud_width=2,)\n",
    "\n",
    "f"
   ]
  },
  {
   "cell_type": "code",
   "execution_count": 208,
   "metadata": {},
   "outputs": [
    {
     "ename": "UndefVarError",
     "evalue": "UndefVarError: top_cat not defined",
     "output_type": "error",
     "traceback": [
      "UndefVarError: top_cat not defined\n",
      "\n",
      "Stacktrace:\n",
      "  [1] (::var\"#77#78\")(row::DataFrameRow{DataFrame, DataFrames.Index})\n",
      "    @ Main ~/Documents/ouvroir/museum-data-analysis/mnbaq/julia/mnba.ipynb:1\n",
      "  [2] #99\n",
      "    @ ~/.julia/packages/DataFrames/Lrd7K/src/abstractdataframe/abstractdataframe.jl:1178 [inlined]\n",
      "  [3] _broadcast_getindex_evalf\n",
      "    @ ./broadcast.jl:670 [inlined]\n",
      "  [4] _broadcast_getindex\n",
      "    @ ./broadcast.jl:643 [inlined]\n",
      "  [5] getindex\n",
      "    @ ./broadcast.jl:597 [inlined]\n",
      "  [6] macro expansion\n",
      "    @ ./broadcast.jl:979 [inlined]\n",
      "  [7] macro expansion\n",
      "    @ ./simdloop.jl:77 [inlined]\n",
      "  [8] copyto!\n",
      "    @ ./broadcast.jl:978 [inlined]\n",
      "  [9] copyto!\n",
      "    @ ./broadcast.jl:913 [inlined]\n",
      " [10] copy\n",
      "    @ ./broadcast.jl:885 [inlined]\n",
      " [11] materialize(bc::Base.Broadcast.Broadcasted{Base.Broadcast.DefaultArrayStyle{1}, Nothing, DataFrames.var\"#99#100\"{var\"#77#78\"}, Tuple{DataFrames.DataFrameRows{DataFrame}}})\n",
      "    @ Base.Broadcast ./broadcast.jl:860\n",
      " [12] _filter_helper(f::Function, cols::DataFrames.DataFrameRows{DataFrame})\n",
      "    @ DataFrames ~/.julia/packages/DataFrames/Lrd7K/src/abstractdataframe/abstractdataframe.jl:1178\n",
      " [13] #filter#88\n",
      "    @ ~/.julia/packages/DataFrames/Lrd7K/src/abstractdataframe/abstractdataframe.jl:1151 [inlined]\n",
      " [14] filter(f::Function, df::DataFrame)\n",
      "    @ DataFrames ~/.julia/packages/DataFrames/Lrd7K/src/abstractdataframe/abstractdataframe.jl:1150\n",
      " [15] top-level scope\n",
      "    @ ~/Documents/ouvroir/museum-data-analysis/mnbaq/julia/mnba.ipynb:1"
     ]
    }
   ],
   "source": [
    "ldata = filter(row -> row.category in top_cat, combine(\n",
    "        groupby(\n",
    "            dropmissing(df, [:acquisition_date]), \n",
    "            [:category, :acquisition_date]\n",
    "        ), \n",
    "        [:acquisition_date, :category], nrow\n",
    "    ))\n",
    "\n",
    "unique!(ldata)\n",
    "categories = ldata.category\n",
    "\n",
    "\n",
    "f = Figure(resolution=(1000, 1000))\n",
    "Axis(\n",
    "    f[1, 1], \n",
    "    title = \"Acquisitions per categories\",\n",
    ")\n",
    "\n",
    "for (i, g) in enumerate(groupby(ldata, [:category]))\n",
    "    scatter!(g.acquisition_date, (g.nrow) ./ sizeof(g), linestyle = nothing, linewidth = 1)\n",
    "end\n",
    "\n",
    "f"
   ]
  },
  {
   "cell_type": "markdown",
   "metadata": {},
   "source": [
    "## Artits\n",
    "\n",
    "- Combien de nouveaux artistes entre dans la collection par année ? \n",
    "- Artistes réccurents ?\n",
    "\n",
    "Questions en réunion : \n",
    "- sujet/type d'oeuvre en fonction du genre de l'individu ? \n",
    "- paysages vs genre\n",
    "- technique par département par année\n",
    "- années de création vs années d'acquisition / genre\n"
   ]
  },
  {
   "cell_type": "code",
   "execution_count": 209,
   "metadata": {},
   "outputs": [],
   "source": []
  }
 ],
 "metadata": {
  "kernelspec": {
   "display_name": "Julia 1.8.1",
   "language": "julia",
   "name": "julia-1.8"
  },
  "language_info": {
   "file_extension": ".jl",
   "mimetype": "application/julia",
   "name": "julia",
   "version": "1.8.1"
  },
  "orig_nbformat": 4
 },
 "nbformat": 4,
 "nbformat_minor": 2
}
